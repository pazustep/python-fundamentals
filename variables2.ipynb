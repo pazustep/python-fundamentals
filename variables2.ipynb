{
 "cells": [
  {
   "cell_type": "code",
   "execution_count": 8,
   "metadata": {},
   "outputs": [
    {
     "name": "stdout",
     "output_type": "stream",
     "text": [
      "a is 4313785256, value 2\n",
      "b is 4313785224, value 1\n"
     ]
    }
   ],
   "source": [
    "a = 1\n",
    "b = a\n",
    "a = 2\n",
    "print(f\"a is {id(a)}, value {a}\")\n",
    "print(f\"b is {id(b)}, value {b}\")"
   ]
  },
  {
   "cell_type": "code",
   "execution_count": 9,
   "metadata": {},
   "outputs": [
    {
     "name": "stdout",
     "output_type": "stream",
     "text": [
      "a is 4383250640, value 2.1\n",
      "b is 4379996816, value 1.2\n"
     ]
    }
   ],
   "source": [
    "a = 1.2\n",
    "b = a\n",
    "a = 2.1\n",
    "print(f\"a is {id(a)}, value {a}\")\n",
    "print(f\"b is {id(b)}, value {b}\")"
   ]
  },
  {
   "cell_type": "code",
   "execution_count": 10,
   "metadata": {},
   "outputs": [
    {
     "name": "stdout",
     "output_type": "stream",
     "text": [
      "a is 4385374848, value [3, 2, 1]\n",
      "b is 4385383424, value [1, 2, 3]\n"
     ]
    }
   ],
   "source": [
    "a = [1, 2, 3]\n",
    "b = a\n",
    "a = [3, 2, 1]\n",
    "print(f\"a is {id(a)}, value {a}\")\n",
    "print(f\"b is {id(b)}, value {b}\")"
   ]
  },
  {
   "cell_type": "code",
   "execution_count": 11,
   "metadata": {},
   "outputs": [
    {
     "name": "stdout",
     "output_type": "stream",
     "text": [
      "a is 4385377856, value [0, 2, 3]\n",
      "b is 4385377856, value [0, 2, 3]\n"
     ]
    }
   ],
   "source": [
    "a = [1, 2, 3]\n",
    "b = a\n",
    "a[0] = 0\n",
    "print(f\"a is {id(a)}, value {a}\")\n",
    "print(f\"b is {id(b)}, value {b}\")"
   ]
  },
  {
   "cell_type": "code",
   "execution_count": 12,
   "metadata": {},
   "outputs": [
    {
     "name": "stdout",
     "output_type": "stream",
     "text": [
      "a is 4385203200, value (3, 2, 1)\n",
      "b is 4385187456, value (1, 2, 3)\n"
     ]
    }
   ],
   "source": [
    "a = (1, 2, 3)\n",
    "b = a\n",
    "a = (3, 2, 1)\n",
    "print(f\"a is {id(a)}, value {a}\")\n",
    "print(f\"b is {id(b)}, value {b}\")"
   ]
  },
  {
   "cell_type": "code",
   "execution_count": 13,
   "metadata": {},
   "outputs": [
    {
     "name": "stdout",
     "output_type": "stream",
     "text": [
      "a is 4385377088, value {'a': 1, 'b': 2, 'c': 3}\n",
      "b is 4385377088, value {'a': 1, 'b': 2, 'c': 3}\n"
     ]
    }
   ],
   "source": [
    "a = {\"a\": 1, \"b\": 2}\n",
    "b = a\n",
    "a[\"c\"] = 3\n",
    "print(f\"a is {id(a)}, value {a}\")\n",
    "print(f\"b is {id(b)}, value {b}\")"
   ]
  }
 ],
 "metadata": {
  "kernelspec": {
   "display_name": "base",
   "language": "python",
   "name": "python3"
  },
  "language_info": {
   "codemirror_mode": {
    "name": "ipython",
    "version": 3
   },
   "file_extension": ".py",
   "mimetype": "text/x-python",
   "name": "python",
   "nbconvert_exporter": "python",
   "pygments_lexer": "ipython3",
   "version": "3.11.3"
  },
  "orig_nbformat": 4
 },
 "nbformat": 4,
 "nbformat_minor": 2
}
